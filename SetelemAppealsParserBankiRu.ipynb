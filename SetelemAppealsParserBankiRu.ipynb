{
 "cells": [
  {
   "cell_type": "markdown",
   "metadata": {},
   "source": [
    "## Import"
   ]
  },
  {
   "cell_type": "code",
   "execution_count": 9,
   "metadata": {},
   "outputs": [],
   "source": [
    "import requests\n",
    "from bs4 import BeautifulSoup\n",
    "from selenium import webdriver\n",
    "\n",
    "import numpy as np\n",
    "import pandas as pd\n",
    "import random\n",
    "import re\n",
    "\n",
    "import seedir as sd\n",
    "\n",
    "import time\n",
    "import datetime\n",
    "from datetime import datetime\n",
    "\n",
    "from wordcloud import WordCloud, STOPWORDS, ImageColorGenerator"
   ]
  },
  {
   "cell_type": "code",
   "execution_count": 47,
   "metadata": {
    "scrolled": false
   },
   "outputs": [
    {
     "name": "stdout",
     "output_type": "stream",
     "text": [
      "📁 HW 3/\n",
      "├─📁 output/\n",
      "│ └─📄 df_appeals.csv\n",
      "├─📁 screenshots/\n",
      "│ ├─📄 AppealPage.png\n",
      "│ └─📄 MainPageWithRef.png\n",
      "├─📁 selenium_chromedriver/\n",
      "│ └─📄 chromedriver.exe\n",
      "└─📄 SetelemAppealsParserBankiRu.ipynb\n"
     ]
    }
   ],
   "source": [
    "# создаем папку для хранения результатов\n",
    "sd.seedir(style='emoji', itemlimit=10, beyond='ellipsis', exclude_folders=['.git', '.ipynb_checkpoints'])"
   ]
  },
  {
   "cell_type": "markdown",
   "metadata": {},
   "source": [
    "---\n",
    "## Содержание\n",
    "\n",
    "-[Описание задачи](#1)   \n",
    "-[Тест: парсинг одного отзыва](#2)  \n",
    "-[Реализация с requests](#3)  \n",
    "-[Реализация с selenium](#4)  \n",
    "-[Анализ данных](#5)  "
   ]
  },
  {
   "cell_type": "markdown",
   "metadata": {},
   "source": [
    "---\n",
    "<a name=\"1\"></a>\n",
    "\n",
    "## Описание задачи"
   ]
  },
  {
   "cell_type": "markdown",
   "metadata": {},
   "source": [
    "- Сайт [Banki.ru](https://www.banki.ru/) - финансовый маркетплейс, на нем реализован один из крупнейших в РФ агрегатор отзывов о работе различных банков  \n",
    "- Соберем с него отзывы о банке Сетелем ([страница с отзывами с оценкой 3/5](https://www.banki.ru/services/responses/bank/bnpparibaseast/?rate=3&is_countable=on&page=1&isMobile=0))  \n",
    "- Для ускорения процесса будем собирать по 3 страницы отзывов с каждой оценкой (1-5)  \n",
    "- [Пример отзыва с оценкой 3/5](https://www.banki.ru/services/responses/bank/response/10598288/)\n",
    "- Со сраницы с отзывом будем собирать следующую информацию:  \n",
    "    + Тема обращения\n",
    "    + Время обращения\n",
    "    + Автор обращения\n",
    "    + Регион атора обращения\n",
    "    + Текст обращения\n",
    "    + Автор ответа\n",
    "    + Время ответа\n",
    "    + Текст ответа"
   ]
  },
  {
   "cell_type": "markdown",
   "metadata": {},
   "source": [
    "![Страница отзыва с необходимой информацией](screenshots/AppealPage.png)"
   ]
  },
  {
   "cell_type": "markdown",
   "metadata": {},
   "source": [
    "---\n",
    "<a name=\"2\"></a>\n",
    "\n",
    "## Тест: парсинг одного отзыва"
   ]
  },
  {
   "cell_type": "code",
   "execution_count": 3,
   "metadata": {},
   "outputs": [],
   "source": [
    "# попробуем собрать данные по приведенному выше отзыву\n",
    "# страница с отзывами с оценкой 3/5\n",
    "url = 'https://www.banki.ru/services/responses/bank/bnpparibaseast/?rate=3&is_countable=on&page=1&isMobile=0'\n",
    "\n",
    "r = requests.get(url)\n",
    "s = BeautifulSoup(r.text, 'lxml')"
   ]
  },
  {
   "cell_type": "markdown",
   "metadata": {},
   "source": [
    "![Страница с отзывами](screenshots/MainPageWithRef.png)"
   ]
  },
  {
   "cell_type": "code",
   "execution_count": 4,
   "metadata": {},
   "outputs": [
    {
     "name": "stdout",
     "output_type": "stream",
     "text": [
      "Всего ссылок на обращения на 1 странице: 25\n",
      "Номер первого обращения: 10598288\n",
      "Номер последнего обращения: 10137465\n"
     ]
    }
   ],
   "source": [
    "# на теме обращения ссылка с номером обращения, по которому можно перейти на страницу с отзывом\n",
    "# собираем все номера обращений\n",
    "appeal_numbers = re.findall('/services/responses/bank/response/(\\d*)', r.text)\n",
    "appeal_numbers = list(dict.fromkeys(appeal_numbers))\n",
    "print(f'Всего ссылок на обращения на 1 странице: {len(appeal_numbers)}')\n",
    "print(f'Номер первого обращения: {appeal_numbers[0]}')\n",
    "print(f'Номер последнего обращения: {appeal_numbers[-1]}')"
   ]
  },
  {
   "cell_type": "code",
   "execution_count": 4,
   "metadata": {},
   "outputs": [],
   "source": [
    "# переходим на страницу конкретного отзыва\n",
    "# и собираем необходимую информацию из html-структуры\n",
    "i = 0\n",
    "r_appeal = requests.get(f'https://www.banki.ru/services/responses/bank/response/{appeal_numbers[i]}/')\n",
    "s_appeal = BeautifulSoup(r_appeal.text, 'lxml')"
   ]
  },
  {
   "cell_type": "code",
   "execution_count": 5,
   "metadata": {
    "scrolled": true
   },
   "outputs": [
    {
     "data": {
      "text/plain": [
       "'Получение автокредита'"
      ]
     },
     "execution_count": 5,
     "metadata": {},
     "output_type": "execute_result"
    }
   ],
   "source": [
    "# Тема обращения\n",
    "theme_appeal = s_appeal.findAll('h1', attrs={'class': 'text-header-0 le856f50c'})[0].get_text(strip=True)\n",
    "theme_appeal"
   ]
  },
  {
   "cell_type": "code",
   "execution_count": 6,
   "metadata": {},
   "outputs": [
    {
     "data": {
      "text/plain": [
       "'Присматривал автомобиль в автосалоне. Были планы брать за наличку, но менеджер уговорил на автокредит - по нему можно скидку сделать, так что подешевле будет.В принципе схема понятная, так что я согласился. Подсел к кредитному менеджеру и тут пошли сказки мне рассказывать. Все плюсы рассказали, про минусы умолчали. В общем, всё как всегда. Дальше пошло от откровенное враньё. Что страховку можно через несколько месяцев частично вернуть (как потом оказалось, в договоре страхования чётко прописано, что страховая премия в таких случаях не возвращается), что досрочно погасить можно не ранее, чем через 3 месяца, а первый досрочный платёж можно внести не ранее чем через 1,5 месяца.В общем взял я этот кредит, но верить не стал. Почитал законы, позвонил в контактный центр - гасить можно любыми сумами хоть сегодня, страховку можно вернуть только в течении 14 дней. Причём в по телефону в контактном центре ничего не скрывают, рассказывают и даже сами предлагают оформить заявки на досрочное погашение.В общем за представителей в автосалоне - 1, за контакт-центр -5.'"
      ]
     },
     "execution_count": 6,
     "metadata": {},
     "output_type": "execute_result"
    }
   ],
   "source": [
    "# Текст обращения \n",
    "text_appeal = s_appeal.findAll('div', attrs={'class': 'lb1789875'})[0].get_text(strip=True)\n",
    "text_appeal"
   ]
  },
  {
   "cell_type": "code",
   "execution_count": 7,
   "metadata": {},
   "outputs": [
    {
     "data": {
      "text/plain": [
       "'10.12.2021 13:34'"
      ]
     },
     "execution_count": 7,
     "metadata": {},
     "output_type": "execute_result"
    }
   ],
   "source": [
    "# Время обращения \n",
    "time_appeal = s_appeal.findAll('span', attrs={'class': 'l10fac986'})[0].get_text(strip=True)\n",
    "time_appeal"
   ]
  },
  {
   "cell_type": "code",
   "execution_count": 8,
   "metadata": {},
   "outputs": [
    {
     "data": {
      "text/plain": [
       "'Andrey10699'"
      ]
     },
     "execution_count": 8,
     "metadata": {},
     "output_type": "execute_result"
    }
   ],
   "source": [
    "# Автор обращения \n",
    "user_appeal = s_appeal.findAll('span', attrs={'class': 'l17191939'})[0].get_text(strip=True)\n",
    "user_appeal"
   ]
  },
  {
   "cell_type": "code",
   "execution_count": 9,
   "metadata": {},
   "outputs": [
    {
     "data": {
      "text/plain": [
       "'Старый Оскол (Белгородская область)'"
      ]
     },
     "execution_count": 9,
     "metadata": {},
     "output_type": "execute_result"
    }
   ],
   "source": [
    "# Регион автора обращения \n",
    "por_appeal = s_appeal.findAll('span', attrs={'class': 'l3a372298'})[0].get_text(strip=True)\n",
    "por_appeal"
   ]
  },
  {
   "cell_type": "code",
   "execution_count": 10,
   "metadata": {},
   "outputs": [
    {
     "data": {
      "text/plain": [
       "'Добрый день.После получения Вашего отзыва мы получили комментарии относительно изложенной Вами ситуации. Нам стало известно, что при обсуждении покупки автомобиля в кредит сотрудник Дилерского центра консультировал Вас по условиям кредитования, к сожалению, провести проверку консультации сотрудника сторонней организации у нас нет возможности.Однако далее, Вас пригласили для оформления кредита к сотруднику Банка, который довел до Вашего сведения полную и подробную информация об условиях кредита, в том числе озвучив информация о возможности осуществления полного/частичного досрочного погашения кредита с любого срока. Также сотрудник проинформировал Вас согласно памятке к Договору страхования , что «страхователь в течение срока действия Договора страхования, заключенного в целях обеспечения исполнения обязательств заемщика по Договору потребительского кредита(займа), при условии полного досрочного исполнения Заемщиком(страхователем) обязательств по Договору имеет право отказаться от Договора страхования с возвратом части страховой премии(при отсутствии в данном периоде событий, имеющих       признаки страховых случаев)», данная информация указана в п.4 Памятки к Договору страхования. Обращаем Ваше  внимание, что решение о возврате страховой премии принимается страховой компанией самостоятельно.Таким образом, ошибок при консультации сотрудником Банка при подписании Договора не было обнаружено.Хорошего Вам дня!С уважением,Управление клиентского сервиса\"Сетелем Банк\" ООО'"
      ]
     },
     "execution_count": 10,
     "metadata": {},
     "output_type": "execute_result"
    }
   ],
   "source": [
    "# Текст ответа\n",
    "text_reply = s_appeal.findAll('div', attrs={'class': 'lb1789875'})[1].get_text(strip=True)\n",
    "text_reply"
   ]
  },
  {
   "cell_type": "code",
   "execution_count": 11,
   "metadata": {
    "scrolled": true
   },
   "outputs": [
    {
     "data": {
      "text/plain": [
       "'2021-12-13 12:56:21'"
      ]
     },
     "execution_count": 11,
     "metadata": {},
     "output_type": "execute_result"
    }
   ],
   "source": [
    "# Время ответа\n",
    "time_reply = s_appeal.findAll('div', attrs={'class': 'l46c44745'})[0].get_text(strip=True)\n",
    "time_reply"
   ]
  },
  {
   "cell_type": "code",
   "execution_count": 12,
   "metadata": {},
   "outputs": [
    {
     "data": {
      "text/plain": [
       "'Сетелем Банк'"
      ]
     },
     "execution_count": 12,
     "metadata": {},
     "output_type": "execute_result"
    }
   ],
   "source": [
    "# Автор ответа\n",
    "user_reply = s_appeal.findAll('div', attrs={'class': 'l5b3cd260'})[0].get_text(strip=True)\n",
    "user_reply"
   ]
  },
  {
   "cell_type": "markdown",
   "metadata": {},
   "source": [
    "---\n",
    "<a name=\"3\"></a>\n",
    "\n",
    "## Реализация с requests"
   ]
  },
  {
   "cell_type": "code",
   "execution_count": 22,
   "metadata": {},
   "outputs": [],
   "source": [
    "def exception_handler(func):\n",
    "    '''\n",
    "        Декоратор для возвращения 'н/д' в случае ошибки\n",
    "    '''\n",
    "    def inner_function(*args, **kwargs):\n",
    "        try:\n",
    "            return func(*args, **kwargs)\n",
    "        except:\n",
    "            return 'н/д'\n",
    "    return inner_function\n",
    "\n",
    "# функции для сбора информации выше \n",
    "@exception_handler\n",
    "def get_theme_appeal(s_appeal):\n",
    "    return s_appeal.findAll('h1', attrs={'class': 'text-header-0 le856f50c'})[0].get_text(strip=True)\n",
    "\n",
    "@exception_handler\n",
    "def get_text_appeal(s_appeal):\n",
    "    return s_appeal.findAll('div', attrs={'class': 'lb1789875'})[0].get_text(strip=True)\n",
    "\n",
    "@exception_handler\n",
    "def get_time_appeal(s_appeal):\n",
    "    return s_appeal.findAll('span', attrs={'class': 'l10fac986'})[0].get_text(strip=True)\n",
    "\n",
    "@exception_handler\n",
    "def get_user_appeal(s_appeal):\n",
    "    return s_appeal.findAll('span', attrs={'class': 'l17191939'})[0].get_text(strip=True)\n",
    "\n",
    "@exception_handler\n",
    "def get_por_appeal(s_appeal):\n",
    "    return s_appeal.findAll('span', attrs={'class': 'l3a372298'})[0].get_text(strip=True)\n",
    "\n",
    "@exception_handler\n",
    "def get_text_reply(s_appeal):\n",
    "    return s_appeal.findAll('div', attrs={'class': 'lb1789875'})[1].get_text(strip=True)\n",
    "\n",
    "@exception_handler\n",
    "def get_time_reply(s_appeal):\n",
    "    return s_appeal.findAll('div', attrs={'class': 'l46c44745'})[0].get_text(strip=True)\n",
    "\n",
    "@exception_handler\n",
    "def get_user_reply(s_appeal):\n",
    "    return s_appeal.findAll('div', attrs={'class': 'l5b3cd260'})[0].get_text(strip=True)"
   ]
  },
  {
   "cell_type": "code",
   "execution_count": 15,
   "metadata": {},
   "outputs": [
    {
     "name": "stdout",
     "output_type": "stream",
     "text": [
      "Обработана страница 1 отзывов с оценкой 1\n",
      "Обработана страница 2 отзывов с оценкой 1\n",
      "Обработана страница 3 отзывов с оценкой 1\n",
      "Обработана страница 1 отзывов с оценкой 2\n",
      "Обработана страница 2 отзывов с оценкой 2\n",
      "Обработана страница 3 отзывов с оценкой 2\n",
      "Обработана страница 1 отзывов с оценкой 3\n",
      "Обработана страница 2 отзывов с оценкой 3\n",
      "Обработана страница 3 отзывов с оценкой 3\n",
      "Обработана страница 1 отзывов с оценкой 4\n",
      "Обработана страница 2 отзывов с оценкой 4\n",
      "Обработана страница 3 отзывов с оценкой 4\n",
      "Обработана страница 1 отзывов с оценкой 5\n",
      "Обработана страница 2 отзывов с оценкой 5\n",
      "Обработана страница 3 отзывов с оценкой 5\n"
     ]
    }
   ],
   "source": [
    "# DataFrame с собранной информацией\n",
    "df = pd.DataFrame(columns=[\n",
    "    'Тема обращения',\n",
    "    'Текст обращения',\n",
    "    'Время обращения',\n",
    "    'Имя пользователя - автора обращения',\n",
    "    'Регион составителя обращения',\n",
    "    'Текст ответа',\n",
    "    'Время ответа',\n",
    "    'Имя пользователя - автора ответа',\n",
    "    'Оценка клиента'\n",
    "])\n",
    "\n",
    "# перебираем все оценки 1-5\n",
    "for rate in range(1, 6):\n",
    "    # перебираем номера страниц 1-3\n",
    "    for page_number in range(1, 4):\n",
    "        url = 'https://www.banki.ru/services/responses/bank/bnpparibaseast/?rate=' + str(rate) + '&is_countable=on&page=' + str(page_number) + '&isMobile=0'\n",
    "\n",
    "        r = requests.get(url)\n",
    "        s = BeautifulSoup(r.text, 'lxml')\n",
    "\n",
    "        appeal_numbers = re.findall('/services/responses/bank/response/(\\d*)', r.text)\n",
    "        appeal_numbers = list(dict.fromkeys(appeal_numbers))\n",
    "\n",
    "        for appeal_number in appeal_numbers:\n",
    "            r_appeal = requests.get(f'https://www.banki.ru/services/responses/bank/response/{appeal_number}/')\n",
    "            s_appeal = BeautifulSoup(r_appeal.text, 'lxml')\n",
    "\n",
    "\n",
    "            df.loc[len(df)] = [\n",
    "                get_theme_appeal(s_appeal),\n",
    "                get_text_appeal(s_appeal),\n",
    "                get_time_appeal(s_appeal),\n",
    "                get_user_appeal(s_appeal),\n",
    "                get_por_appeal(s_appeal),\n",
    "                get_text_reply(s_appeal),\n",
    "                get_time_reply(s_appeal),\n",
    "                get_user_reply(s_appeal),\n",
    "                rate\n",
    "            ]\n",
    "            \n",
    "            # sleep для избегания перегрузки сайта запросами в единицу времени\n",
    "            time.sleep(random.random() + 1)\n",
    "\n",
    "        print(f'Обработана страница {page_number} отзывов с оценкой {rate}')"
   ]
  },
  {
   "cell_type": "code",
   "execution_count": 16,
   "metadata": {},
   "outputs": [
    {
     "data": {
      "text/html": [
       "<div>\n",
       "<style scoped>\n",
       "    .dataframe tbody tr th:only-of-type {\n",
       "        vertical-align: middle;\n",
       "    }\n",
       "\n",
       "    .dataframe tbody tr th {\n",
       "        vertical-align: top;\n",
       "    }\n",
       "\n",
       "    .dataframe thead th {\n",
       "        text-align: right;\n",
       "    }\n",
       "</style>\n",
       "<table border=\"1\" class=\"dataframe\">\n",
       "  <thead>\n",
       "    <tr style=\"text-align: right;\">\n",
       "      <th></th>\n",
       "      <th>Тема обращения</th>\n",
       "      <th>Текст обращения</th>\n",
       "      <th>Время обращения</th>\n",
       "      <th>Имя пользователя - автора обращения</th>\n",
       "      <th>Регион составителя обращения</th>\n",
       "      <th>Текст ответа</th>\n",
       "      <th>Время ответа</th>\n",
       "      <th>Имя пользователя - автора ответа</th>\n",
       "      <th>Оценка клинета</th>\n",
       "    </tr>\n",
       "  </thead>\n",
       "  <tbody>\n",
       "    <tr>\n",
       "      <th>0</th>\n",
       "      <td>Неправомерное начисление штрафа</td>\n",
       "      <td>12.10.2022 заключен автокредит №04******8414.2...</td>\n",
       "      <td>04.11.2022 11:58</td>\n",
       "      <td>user-486011841525</td>\n",
       "      <td>Санкт-Петербург</td>\n",
       "      <td>Добрый день!Согласно п. 12 Индивидуальных усло...</td>\n",
       "      <td>2022-11-07 08:39:51</td>\n",
       "      <td>Сетелем Банк</td>\n",
       "      <td>1</td>\n",
       "    </tr>\n",
       "    <tr>\n",
       "      <th>1</th>\n",
       "      <td>Ода о страховке</td>\n",
       "      <td>Доброго времени суток, уважаемые мои.Хочу пове...</td>\n",
       "      <td>28.10.2022 18:37</td>\n",
       "      <td>user-698610903546</td>\n",
       "      <td>Москва</td>\n",
       "      <td>Уважаемый Клиент!Мы внимательно изучили Вашу с...</td>\n",
       "      <td>2022-10-31 15:58:25</td>\n",
       "      <td>Сетелем Банк</td>\n",
       "      <td>1</td>\n",
       "    </tr>\n",
       "    <tr>\n",
       "      <th>2</th>\n",
       "      <td>Штрафы за непредоставление СТС</td>\n",
       "      <td>Добрый день!Моя история не нова. Автокредит 04...</td>\n",
       "      <td>19.09.2022 11:46</td>\n",
       "      <td>cyxapuk.</td>\n",
       "      <td>Санкт-Петербург</td>\n",
       "      <td>Спасибо за отзыв. Давайте подождем от банка ре...</td>\n",
       "      <td>2022-09-23 14:12:15</td>\n",
       "      <td>Администратор народного рейтинга</td>\n",
       "      <td>1</td>\n",
       "    </tr>\n",
       "    <tr>\n",
       "      <th>3</th>\n",
       "      <td>Ужасное обслуживание. Необоснованные штрафы</td>\n",
       "      <td>Автодилер при продаже автомобиля, предложил во...</td>\n",
       "      <td>16.09.2022 13:54</td>\n",
       "      <td>user-35309910387</td>\n",
       "      <td>Санкт-Петербург</td>\n",
       "      <td>Спасибо за отзыв. Давайте подождём ответа банк...</td>\n",
       "      <td>2022-09-21 16:06:00</td>\n",
       "      <td>Администратор народного рейтинга</td>\n",
       "      <td>1</td>\n",
       "    </tr>\n",
       "    <tr>\n",
       "      <th>4</th>\n",
       "      <td>Штрафные санкции</td>\n",
       "      <td>9.08.22 оформлен кредит на покупку автомобиля ...</td>\n",
       "      <td>02.09.2022 11:28</td>\n",
       "      <td>user-37369743590</td>\n",
       "      <td>Новосибирск (Новосибирская область)</td>\n",
       "      <td>Оценку зачли. Если банк решил вашу проблему, в...</td>\n",
       "      <td>2022-09-08 17:31:16</td>\n",
       "      <td>Администратор народного рейтинга</td>\n",
       "      <td>1</td>\n",
       "    </tr>\n",
       "    <tr>\n",
       "      <th>...</th>\n",
       "      <td>...</td>\n",
       "      <td>...</td>\n",
       "      <td>...</td>\n",
       "      <td>...</td>\n",
       "      <td>...</td>\n",
       "      <td>...</td>\n",
       "      <td>...</td>\n",
       "      <td>...</td>\n",
       "      <td>...</td>\n",
       "    </tr>\n",
       "    <tr>\n",
       "      <th>370</th>\n",
       "      <td>Досрочное погашение</td>\n",
       "      <td>Хитрая система Сетелем Банка, описываю:1) Хочу...</td>\n",
       "      <td>10.02.2021 14:55</td>\n",
       "      <td>oh_yeah</td>\n",
       "      <td>Санкт-Петербург</td>\n",
       "      <td>Оценка изменена по просьбе автора.</td>\n",
       "      <td>2021-02-16 15:42:36</td>\n",
       "      <td>Администратор народного рейтинга</td>\n",
       "      <td>5</td>\n",
       "    </tr>\n",
       "    <tr>\n",
       "      <th>371</th>\n",
       "      <td>Досрочное погашение кредита</td>\n",
       "      <td>Сотрудники отказывают в досрочном погашении кр...</td>\n",
       "      <td>12.01.2021 13:55</td>\n",
       "      <td>Александра36</td>\n",
       "      <td>Воронеж (Воронежская область)</td>\n",
       "      <td>Спасибо за отзыв. Как вы можете прокомментиров...</td>\n",
       "      <td>2021-01-21 10:19:43</td>\n",
       "      <td>Администратор народного рейтинга</td>\n",
       "      <td>5</td>\n",
       "    </tr>\n",
       "    <tr>\n",
       "      <th>372</th>\n",
       "      <td>Автокредит</td>\n",
       "      <td>Ставлю оценку пять!За то что когда я обратилас...</td>\n",
       "      <td>17.12.2020 16:08</td>\n",
       "      <td>Cdsolga</td>\n",
       "      <td>Москва</td>\n",
       "      <td>Добрый день.Спасибо за положительный отзыв! В ...</td>\n",
       "      <td>2020-12-18 11:12:41</td>\n",
       "      <td>Сетелем Банк</td>\n",
       "      <td>5</td>\n",
       "    </tr>\n",
       "    <tr>\n",
       "      <th>373</th>\n",
       "      <td>Отзыв о работе банка и сотрудниках</td>\n",
       "      <td>Добрый день!После заключения Договора потребит...</td>\n",
       "      <td>16.12.2020 10:42</td>\n",
       "      <td>130956zz</td>\n",
       "      <td>Екатеринбург (Свердловская область)</td>\n",
       "      <td>Добрый день.Приятно, что работа сотрудников Ба...</td>\n",
       "      <td>2020-12-16 11:38:57</td>\n",
       "      <td>Сетелем Банк</td>\n",
       "      <td>5</td>\n",
       "    </tr>\n",
       "    <tr>\n",
       "      <th>374</th>\n",
       "      <td>Банком доволен</td>\n",
       "      <td>Брал автокредит по номеру договора С04***083, ...</td>\n",
       "      <td>02.11.2020 23:11</td>\n",
       "      <td>Сергей132107</td>\n",
       "      <td>Воронеж (Воронежская область)</td>\n",
       "      <td>Благодарим за отзыв. Расскажите, пожалуйста, о...</td>\n",
       "      <td>2020-11-16 17:01:50</td>\n",
       "      <td>Администратор народного рейтинга</td>\n",
       "      <td>5</td>\n",
       "    </tr>\n",
       "  </tbody>\n",
       "</table>\n",
       "<p>375 rows × 9 columns</p>\n",
       "</div>"
      ],
      "text/plain": [
       "                                  Тема обращения  \\\n",
       "0                Неправомерное начисление штрафа   \n",
       "1                                Ода о страховке   \n",
       "2                 Штрафы за непредоставление СТС   \n",
       "3    Ужасное обслуживание. Необоснованные штрафы   \n",
       "4                               Штрафные санкции   \n",
       "..                                           ...   \n",
       "370                          Досрочное погашение   \n",
       "371                  Досрочное погашение кредита   \n",
       "372                                   Автокредит   \n",
       "373           Отзыв о работе банка и сотрудниках   \n",
       "374                               Банком доволен   \n",
       "\n",
       "                                       Текст обращения   Время обращения  \\\n",
       "0    12.10.2022 заключен автокредит №04******8414.2...  04.11.2022 11:58   \n",
       "1    Доброго времени суток, уважаемые мои.Хочу пове...  28.10.2022 18:37   \n",
       "2    Добрый день!Моя история не нова. Автокредит 04...  19.09.2022 11:46   \n",
       "3    Автодилер при продаже автомобиля, предложил во...  16.09.2022 13:54   \n",
       "4    9.08.22 оформлен кредит на покупку автомобиля ...  02.09.2022 11:28   \n",
       "..                                                 ...               ...   \n",
       "370  Хитрая система Сетелем Банка, описываю:1) Хочу...  10.02.2021 14:55   \n",
       "371  Сотрудники отказывают в досрочном погашении кр...  12.01.2021 13:55   \n",
       "372  Ставлю оценку пять!За то что когда я обратилас...  17.12.2020 16:08   \n",
       "373  Добрый день!После заключения Договора потребит...  16.12.2020 10:42   \n",
       "374  Брал автокредит по номеру договора С04***083, ...  02.11.2020 23:11   \n",
       "\n",
       "    Имя пользователя - автора обращения         Регион составителя обращения  \\\n",
       "0                     user-486011841525                      Санкт-Петербург   \n",
       "1                     user-698610903546                               Москва   \n",
       "2                              cyxapuk.                      Санкт-Петербург   \n",
       "3                      user-35309910387                      Санкт-Петербург   \n",
       "4                      user-37369743590  Новосибирск (Новосибирская область)   \n",
       "..                                  ...                                  ...   \n",
       "370                             oh_yeah                      Санкт-Петербург   \n",
       "371                        Александра36        Воронеж (Воронежская область)   \n",
       "372                             Cdsolga                               Москва   \n",
       "373                            130956zz  Екатеринбург (Свердловская область)   \n",
       "374                        Сергей132107        Воронеж (Воронежская область)   \n",
       "\n",
       "                                          Текст ответа         Время ответа  \\\n",
       "0    Добрый день!Согласно п. 12 Индивидуальных усло...  2022-11-07 08:39:51   \n",
       "1    Уважаемый Клиент!Мы внимательно изучили Вашу с...  2022-10-31 15:58:25   \n",
       "2    Спасибо за отзыв. Давайте подождем от банка ре...  2022-09-23 14:12:15   \n",
       "3    Спасибо за отзыв. Давайте подождём ответа банк...  2022-09-21 16:06:00   \n",
       "4    Оценку зачли. Если банк решил вашу проблему, в...  2022-09-08 17:31:16   \n",
       "..                                                 ...                  ...   \n",
       "370                 Оценка изменена по просьбе автора.  2021-02-16 15:42:36   \n",
       "371  Спасибо за отзыв. Как вы можете прокомментиров...  2021-01-21 10:19:43   \n",
       "372  Добрый день.Спасибо за положительный отзыв! В ...  2020-12-18 11:12:41   \n",
       "373  Добрый день.Приятно, что работа сотрудников Ба...  2020-12-16 11:38:57   \n",
       "374  Благодарим за отзыв. Расскажите, пожалуйста, о...  2020-11-16 17:01:50   \n",
       "\n",
       "     Имя пользователя - автора ответа Оценка клинета  \n",
       "0                        Сетелем Банк              1  \n",
       "1                        Сетелем Банк              1  \n",
       "2    Администратор народного рейтинга              1  \n",
       "3    Администратор народного рейтинга              1  \n",
       "4    Администратор народного рейтинга              1  \n",
       "..                                ...            ...  \n",
       "370  Администратор народного рейтинга              5  \n",
       "371  Администратор народного рейтинга              5  \n",
       "372                      Сетелем Банк              5  \n",
       "373                      Сетелем Банк              5  \n",
       "374  Администратор народного рейтинга              5  \n",
       "\n",
       "[375 rows x 9 columns]"
      ]
     },
     "execution_count": 16,
     "metadata": {},
     "output_type": "execute_result"
    }
   ],
   "source": [
    "df"
   ]
  },
  {
   "cell_type": "code",
   "execution_count": 17,
   "metadata": {},
   "outputs": [],
   "source": [
    "df.to_csv('output/df_appeals.csv', index=False)"
   ]
  },
  {
   "cell_type": "markdown",
   "metadata": {},
   "source": [
    "---\n",
    "<a name=\"4\"></a>\n",
    "\n",
    "## Реализация с selenium"
   ]
  },
  {
   "cell_type": "code",
   "execution_count": null,
   "metadata": {},
   "outputs": [],
   "source": [
    "# DataFrame с собранной информацией\n",
    "df_selenium = pd.DataFrame(columns=[\n",
    "    'Тема обращения',\n",
    "    'Текст обращения',\n",
    "    'Время обращения',\n",
    "    'Имя пользователя - автора обращения',\n",
    "    'Регион составителя обращения',\n",
    "    'Текст ответа',\n",
    "    'Время ответа',\n",
    "    'Имя пользователя - автора ответа',\n",
    "    'Оценка клиента'\n",
    "])\n",
    "\n",
    "driver = webdriver.Chrome(executable_path='selenium_chromedriver/chromedriver')\n",
    "\n",
    "# перебираем все оценки 1-5\n",
    "for rate in range(1, 6):\n",
    "    # перебираем номера страниц 1-3\n",
    "    for page_number in range(1, 2):\n",
    "        url = 'https://www.banki.ru/services/responses/bank/bnpparibaseast/?rate=' + str(rate) + '&is_countable=on&page=' + str(page_number) + '&isMobile=0'\n",
    "\n",
    "        driver.get(url)\n",
    "        html_source_main = driver.page_source\n",
    "        appeal_numbers = re.findall('/services/responses/bank/response/(\\d*)', html_source_main)\n",
    "        appeal_numbers = list(dict.fromkeys(appeal_numbers))\n",
    "\n",
    "        for appeal_number in appeal_numbers:\n",
    "            driver.get(f'https://www.banki.ru/services/responses/bank/response/{appeal_number}/')\n",
    "            html_source_appeal = driver.page_source\n",
    "            s_appeal = BeautifulSoup(html_source_appeal, 'lxml')\n",
    "\n",
    "            df_selenium.loc[len(df_selenium)] = [\n",
    "                get_theme_appeal(s_appeal),\n",
    "                get_text_appeal(s_appeal),\n",
    "                get_time_appeal(s_appeal),\n",
    "                get_user_appeal(s_appeal),\n",
    "                get_por_appeal(s_appeal),\n",
    "                get_text_reply(s_appeal),\n",
    "                get_time_reply(s_appeal),\n",
    "                get_user_reply(s_appeal),\n",
    "                rate\n",
    "            ]\n",
    "            \n",
    "            # sleep для избегания перегрузки сайта запросами в единицу времени\n",
    "            # time.sleep(random.random() + 1)\n",
    "\n",
    "        print(f'Обработана страница {page_number} отзывов с оценкой {rate}')"
   ]
  },
  {
   "cell_type": "code",
   "execution_count": null,
   "metadata": {},
   "outputs": [],
   "source": [
    "df_selenium"
   ]
  },
  {
   "cell_type": "code",
   "execution_count": null,
   "metadata": {},
   "outputs": [],
   "source": [
    "df_selenium.to_csv('output/df_selenium_appeals.csv', index=False)"
   ]
  },
  {
   "cell_type": "markdown",
   "metadata": {},
   "source": [
    "---\n",
    "<a name=\"5\"></a>\n",
    "\n",
    "## Анализ данных"
   ]
  },
  {
   "cell_type": "code",
   "execution_count": 6,
   "metadata": {},
   "outputs": [
    {
     "data": {
      "text/html": [
       "<div>\n",
       "<style scoped>\n",
       "    .dataframe tbody tr th:only-of-type {\n",
       "        vertical-align: middle;\n",
       "    }\n",
       "\n",
       "    .dataframe tbody tr th {\n",
       "        vertical-align: top;\n",
       "    }\n",
       "\n",
       "    .dataframe thead th {\n",
       "        text-align: right;\n",
       "    }\n",
       "</style>\n",
       "<table border=\"1\" class=\"dataframe\">\n",
       "  <thead>\n",
       "    <tr style=\"text-align: right;\">\n",
       "      <th></th>\n",
       "      <th>t1</th>\n",
       "      <th>t2</th>\n",
       "    </tr>\n",
       "  </thead>\n",
       "  <tbody>\n",
       "    <tr>\n",
       "      <th>0</th>\n",
       "      <td>04.11.2022 11:58</td>\n",
       "      <td>2022-11-07 08:39:51</td>\n",
       "    </tr>\n",
       "    <tr>\n",
       "      <th>1</th>\n",
       "      <td>28.10.2022 18:37</td>\n",
       "      <td>2022-10-31 15:58:25</td>\n",
       "    </tr>\n",
       "    <tr>\n",
       "      <th>2</th>\n",
       "      <td>19.09.2022 11:46</td>\n",
       "      <td>2022-09-23 14:12:15</td>\n",
       "    </tr>\n",
       "    <tr>\n",
       "      <th>3</th>\n",
       "      <td>16.09.2022 13:54</td>\n",
       "      <td>2022-09-21 16:06:00</td>\n",
       "    </tr>\n",
       "    <tr>\n",
       "      <th>4</th>\n",
       "      <td>02.09.2022 11:28</td>\n",
       "      <td>2022-09-08 17:31:16</td>\n",
       "    </tr>\n",
       "    <tr>\n",
       "      <th>...</th>\n",
       "      <td>...</td>\n",
       "      <td>...</td>\n",
       "    </tr>\n",
       "    <tr>\n",
       "      <th>370</th>\n",
       "      <td>10.02.2021 14:55</td>\n",
       "      <td>2021-02-16 15:42:36</td>\n",
       "    </tr>\n",
       "    <tr>\n",
       "      <th>371</th>\n",
       "      <td>12.01.2021 13:55</td>\n",
       "      <td>2021-01-21 10:19:43</td>\n",
       "    </tr>\n",
       "    <tr>\n",
       "      <th>372</th>\n",
       "      <td>17.12.2020 16:08</td>\n",
       "      <td>2020-12-18 11:12:41</td>\n",
       "    </tr>\n",
       "    <tr>\n",
       "      <th>373</th>\n",
       "      <td>16.12.2020 10:42</td>\n",
       "      <td>2020-12-16 11:38:57</td>\n",
       "    </tr>\n",
       "    <tr>\n",
       "      <th>374</th>\n",
       "      <td>02.11.2020 23:11</td>\n",
       "      <td>2020-11-16 17:01:50</td>\n",
       "    </tr>\n",
       "  </tbody>\n",
       "</table>\n",
       "<p>375 rows × 2 columns</p>\n",
       "</div>"
      ],
      "text/plain": [
       "                   t1                   t2\n",
       "0    04.11.2022 11:58  2022-11-07 08:39:51\n",
       "1    28.10.2022 18:37  2022-10-31 15:58:25\n",
       "2    19.09.2022 11:46  2022-09-23 14:12:15\n",
       "3    16.09.2022 13:54  2022-09-21 16:06:00\n",
       "4    02.09.2022 11:28  2022-09-08 17:31:16\n",
       "..                ...                  ...\n",
       "370  10.02.2021 14:55  2021-02-16 15:42:36\n",
       "371  12.01.2021 13:55  2021-01-21 10:19:43\n",
       "372  17.12.2020 16:08  2020-12-18 11:12:41\n",
       "373  16.12.2020 10:42  2020-12-16 11:38:57\n",
       "374  02.11.2020 23:11  2020-11-16 17:01:50\n",
       "\n",
       "[375 rows x 2 columns]"
      ]
     },
     "execution_count": 6,
     "metadata": {},
     "output_type": "execute_result"
    }
   ],
   "source": [
    "# посчитаем статистику времени ответа на обращение\n",
    "df_raw = pd.read_csv('output/df_appeals.csv')\n",
    "df = df_raw[['Время обращения', 'Время ответа']].copy()\n",
    "df = df.rename(columns={'Время обращения': 't1', 'Время ответа': 't2'})\n",
    "df"
   ]
  },
  {
   "cell_type": "code",
   "execution_count": 7,
   "metadata": {},
   "outputs": [
    {
     "data": {
      "text/html": [
       "<div>\n",
       "<style scoped>\n",
       "    .dataframe tbody tr th:only-of-type {\n",
       "        vertical-align: middle;\n",
       "    }\n",
       "\n",
       "    .dataframe tbody tr th {\n",
       "        vertical-align: top;\n",
       "    }\n",
       "\n",
       "    .dataframe thead th {\n",
       "        text-align: right;\n",
       "    }\n",
       "</style>\n",
       "<table border=\"1\" class=\"dataframe\">\n",
       "  <thead>\n",
       "    <tr style=\"text-align: right;\">\n",
       "      <th></th>\n",
       "      <th>t1</th>\n",
       "      <th>t2</th>\n",
       "      <th>t2-t1</th>\n",
       "    </tr>\n",
       "  </thead>\n",
       "  <tbody>\n",
       "    <tr>\n",
       "      <th>0</th>\n",
       "      <td>2022-11-04 11:58:00</td>\n",
       "      <td>2022-11-07 08:39:51</td>\n",
       "      <td>68.697500</td>\n",
       "    </tr>\n",
       "    <tr>\n",
       "      <th>1</th>\n",
       "      <td>2022-10-28 18:37:00</td>\n",
       "      <td>2022-10-31 15:58:25</td>\n",
       "      <td>69.356944</td>\n",
       "    </tr>\n",
       "    <tr>\n",
       "      <th>2</th>\n",
       "      <td>2022-09-19 11:46:00</td>\n",
       "      <td>2022-09-23 14:12:15</td>\n",
       "      <td>98.437500</td>\n",
       "    </tr>\n",
       "    <tr>\n",
       "      <th>3</th>\n",
       "      <td>2022-09-16 13:54:00</td>\n",
       "      <td>2022-09-21 16:06:00</td>\n",
       "      <td>122.200000</td>\n",
       "    </tr>\n",
       "    <tr>\n",
       "      <th>4</th>\n",
       "      <td>2022-09-02 11:28:00</td>\n",
       "      <td>2022-09-08 17:31:16</td>\n",
       "      <td>150.054444</td>\n",
       "    </tr>\n",
       "    <tr>\n",
       "      <th>...</th>\n",
       "      <td>...</td>\n",
       "      <td>...</td>\n",
       "      <td>...</td>\n",
       "    </tr>\n",
       "    <tr>\n",
       "      <th>370</th>\n",
       "      <td>2021-02-10 14:55:00</td>\n",
       "      <td>2021-02-16 15:42:36</td>\n",
       "      <td>144.793333</td>\n",
       "    </tr>\n",
       "    <tr>\n",
       "      <th>371</th>\n",
       "      <td>2021-01-12 13:55:00</td>\n",
       "      <td>2021-01-21 10:19:43</td>\n",
       "      <td>212.411944</td>\n",
       "    </tr>\n",
       "    <tr>\n",
       "      <th>372</th>\n",
       "      <td>2020-12-17 16:08:00</td>\n",
       "      <td>2020-12-18 11:12:41</td>\n",
       "      <td>19.078056</td>\n",
       "    </tr>\n",
       "    <tr>\n",
       "      <th>373</th>\n",
       "      <td>2020-12-16 10:42:00</td>\n",
       "      <td>2020-12-16 11:38:57</td>\n",
       "      <td>0.949167</td>\n",
       "    </tr>\n",
       "    <tr>\n",
       "      <th>374</th>\n",
       "      <td>2020-11-02 23:11:00</td>\n",
       "      <td>2020-11-16 17:01:50</td>\n",
       "      <td>329.847222</td>\n",
       "    </tr>\n",
       "  </tbody>\n",
       "</table>\n",
       "<p>375 rows × 3 columns</p>\n",
       "</div>"
      ],
      "text/plain": [
       "                     t1                  t2       t2-t1\n",
       "0   2022-11-04 11:58:00 2022-11-07 08:39:51   68.697500\n",
       "1   2022-10-28 18:37:00 2022-10-31 15:58:25   69.356944\n",
       "2   2022-09-19 11:46:00 2022-09-23 14:12:15   98.437500\n",
       "3   2022-09-16 13:54:00 2022-09-21 16:06:00  122.200000\n",
       "4   2022-09-02 11:28:00 2022-09-08 17:31:16  150.054444\n",
       "..                  ...                 ...         ...\n",
       "370 2021-02-10 14:55:00 2021-02-16 15:42:36  144.793333\n",
       "371 2021-01-12 13:55:00 2021-01-21 10:19:43  212.411944\n",
       "372 2020-12-17 16:08:00 2020-12-18 11:12:41   19.078056\n",
       "373 2020-12-16 10:42:00 2020-12-16 11:38:57    0.949167\n",
       "374 2020-11-02 23:11:00 2020-11-16 17:01:50  329.847222\n",
       "\n",
       "[375 rows x 3 columns]"
      ]
     },
     "execution_count": 7,
     "metadata": {},
     "output_type": "execute_result"
    }
   ],
   "source": [
    "df['t1'] = pd.to_datetime(df['t1'], dayfirst=True)\n",
    "df['t2'] = pd.to_datetime(df['t2'])\n",
    "df['t2-t1'] = (df['t2'] - df['t1']).dt.total_seconds()/3600\n",
    "df"
   ]
  },
  {
   "cell_type": "code",
   "execution_count": 8,
   "metadata": {},
   "outputs": [
    {
     "data": {
      "text/html": [
       "<div>\n",
       "<style scoped>\n",
       "    .dataframe tbody tr th:only-of-type {\n",
       "        vertical-align: middle;\n",
       "    }\n",
       "\n",
       "    .dataframe tbody tr th {\n",
       "        vertical-align: top;\n",
       "    }\n",
       "\n",
       "    .dataframe thead th {\n",
       "        text-align: right;\n",
       "    }\n",
       "</style>\n",
       "<table border=\"1\" class=\"dataframe\">\n",
       "  <thead>\n",
       "    <tr style=\"text-align: right;\">\n",
       "      <th></th>\n",
       "      <th>t1</th>\n",
       "      <th>t2</th>\n",
       "      <th>t2-t1</th>\n",
       "    </tr>\n",
       "  </thead>\n",
       "  <tbody>\n",
       "    <tr>\n",
       "      <th>306</th>\n",
       "      <td>2022-10-04 19:12:00</td>\n",
       "      <td>2022-10-04 19:16:21</td>\n",
       "      <td>0.072500</td>\n",
       "    </tr>\n",
       "    <tr>\n",
       "      <th>141</th>\n",
       "      <td>2018-06-22 20:49:00</td>\n",
       "      <td>2018-06-22 21:00:47</td>\n",
       "      <td>0.196389</td>\n",
       "    </tr>\n",
       "    <tr>\n",
       "      <th>236</th>\n",
       "      <td>2021-06-11 14:30:00</td>\n",
       "      <td>2021-06-11 14:43:46</td>\n",
       "      <td>0.229444</td>\n",
       "    </tr>\n",
       "    <tr>\n",
       "      <th>283</th>\n",
       "      <td>2019-02-20 16:13:00</td>\n",
       "      <td>2019-02-20 16:27:35</td>\n",
       "      <td>0.243056</td>\n",
       "    </tr>\n",
       "    <tr>\n",
       "      <th>373</th>\n",
       "      <td>2020-12-16 10:42:00</td>\n",
       "      <td>2020-12-16 11:38:57</td>\n",
       "      <td>0.949167</td>\n",
       "    </tr>\n",
       "    <tr>\n",
       "      <th>...</th>\n",
       "      <td>...</td>\n",
       "      <td>...</td>\n",
       "      <td>...</td>\n",
       "    </tr>\n",
       "    <tr>\n",
       "      <th>209</th>\n",
       "      <td>2014-08-19 00:58:00</td>\n",
       "      <td>2014-10-28 09:14:00</td>\n",
       "      <td>1688.266667</td>\n",
       "    </tr>\n",
       "    <tr>\n",
       "      <th>332</th>\n",
       "      <td>2022-04-08 15:00:00</td>\n",
       "      <td>2022-06-20 17:27:48</td>\n",
       "      <td>1754.463333</td>\n",
       "    </tr>\n",
       "    <tr>\n",
       "      <th>7</th>\n",
       "      <td>2022-07-09 01:33:00</td>\n",
       "      <td>2022-09-29 15:41:00</td>\n",
       "      <td>1982.133333</td>\n",
       "    </tr>\n",
       "    <tr>\n",
       "      <th>27</th>\n",
       "      <td>2022-01-28 12:02:00</td>\n",
       "      <td>2022-04-27 11:43:28</td>\n",
       "      <td>2135.691111</td>\n",
       "    </tr>\n",
       "    <tr>\n",
       "      <th>341</th>\n",
       "      <td>2021-11-26 12:52:00</td>\n",
       "      <td>NaT</td>\n",
       "      <td>NaN</td>\n",
       "    </tr>\n",
       "  </tbody>\n",
       "</table>\n",
       "<p>375 rows × 3 columns</p>\n",
       "</div>"
      ],
      "text/plain": [
       "                     t1                  t2        t2-t1\n",
       "306 2022-10-04 19:12:00 2022-10-04 19:16:21     0.072500\n",
       "141 2018-06-22 20:49:00 2018-06-22 21:00:47     0.196389\n",
       "236 2021-06-11 14:30:00 2021-06-11 14:43:46     0.229444\n",
       "283 2019-02-20 16:13:00 2019-02-20 16:27:35     0.243056\n",
       "373 2020-12-16 10:42:00 2020-12-16 11:38:57     0.949167\n",
       "..                  ...                 ...          ...\n",
       "209 2014-08-19 00:58:00 2014-10-28 09:14:00  1688.266667\n",
       "332 2022-04-08 15:00:00 2022-06-20 17:27:48  1754.463333\n",
       "7   2022-07-09 01:33:00 2022-09-29 15:41:00  1982.133333\n",
       "27  2022-01-28 12:02:00 2022-04-27 11:43:28  2135.691111\n",
       "341 2021-11-26 12:52:00                 NaT          NaN\n",
       "\n",
       "[375 rows x 3 columns]"
      ]
     },
     "execution_count": 8,
     "metadata": {},
     "output_type": "execute_result"
    }
   ],
   "source": [
    "# видим одно обращение без определения времени ответа\n",
    "df.sort_values('t2-t1')"
   ]
  },
  {
   "cell_type": "code",
   "execution_count": 9,
   "metadata": {
    "scrolled": true
   },
   "outputs": [
    {
     "data": {
      "text/plain": [
       "Тема обращения                                                               Просто вау!\n",
       "Текст обращения                        Никогда не писал отзывы но здесь захотел, пото...\n",
       "Время обращения                                                         26.11.2021 12:52\n",
       "Имя пользователя - автора обращения                                        Pavlushka1992\n",
       "Регион составителя обращения                                                      Москва\n",
       "Текст ответа                                                                         н/д\n",
       "Время ответа                                                                         NaN\n",
       "Имя пользователя - автора ответа                                           Pavlushka1992\n",
       "Оценка клинета                                                                         5\n",
       "Name: 341, dtype: object"
      ]
     },
     "execution_count": 9,
     "metadata": {},
     "output_type": "execute_result"
    }
   ],
   "source": [
    "# действительно нет теккста и времени ответа\n",
    "df_raw.loc[341]"
   ]
  },
  {
   "cell_type": "code",
   "execution_count": 10,
   "metadata": {},
   "outputs": [
    {
     "data": {
      "text/html": [
       "<div>\n",
       "<style scoped>\n",
       "    .dataframe tbody tr th:only-of-type {\n",
       "        vertical-align: middle;\n",
       "    }\n",
       "\n",
       "    .dataframe tbody tr th {\n",
       "        vertical-align: top;\n",
       "    }\n",
       "\n",
       "    .dataframe thead th {\n",
       "        text-align: right;\n",
       "    }\n",
       "</style>\n",
       "<table border=\"1\" class=\"dataframe\">\n",
       "  <thead>\n",
       "    <tr style=\"text-align: right;\">\n",
       "      <th></th>\n",
       "      <th>t2-t1</th>\n",
       "    </tr>\n",
       "  </thead>\n",
       "  <tbody>\n",
       "    <tr>\n",
       "      <th>count</th>\n",
       "      <td>374.000000</td>\n",
       "    </tr>\n",
       "    <tr>\n",
       "      <th>mean</th>\n",
       "      <td>165.108734</td>\n",
       "    </tr>\n",
       "    <tr>\n",
       "      <th>std</th>\n",
       "      <td>261.172038</td>\n",
       "    </tr>\n",
       "    <tr>\n",
       "      <th>min</th>\n",
       "      <td>0.072500</td>\n",
       "    </tr>\n",
       "    <tr>\n",
       "      <th>25%</th>\n",
       "      <td>39.457708</td>\n",
       "    </tr>\n",
       "    <tr>\n",
       "      <th>50%</th>\n",
       "      <td>99.419306</td>\n",
       "    </tr>\n",
       "    <tr>\n",
       "      <th>75%</th>\n",
       "      <td>163.429444</td>\n",
       "    </tr>\n",
       "    <tr>\n",
       "      <th>max</th>\n",
       "      <td>2135.691111</td>\n",
       "    </tr>\n",
       "  </tbody>\n",
       "</table>\n",
       "</div>"
      ],
      "text/plain": [
       "             t2-t1\n",
       "count   374.000000\n",
       "mean    165.108734\n",
       "std     261.172038\n",
       "min       0.072500\n",
       "25%      39.457708\n",
       "50%      99.419306\n",
       "75%     163.429444\n",
       "max    2135.691111"
      ]
     },
     "execution_count": 10,
     "metadata": {},
     "output_type": "execute_result"
    }
   ],
   "source": [
    "# выкинем эту одну запись без времени ответа\n",
    "df = df.dropna()\n",
    "# статистика по времени между ответом и обращением\n",
    "df.describe()"
   ]
  },
  {
   "cell_type": "code",
   "execution_count": null,
   "metadata": {},
   "outputs": [],
   "source": []
  }
 ],
 "metadata": {
  "kernelspec": {
   "display_name": "Python 3",
   "language": "python",
   "name": "python3"
  },
  "language_info": {
   "codemirror_mode": {
    "name": "ipython",
    "version": 3
   },
   "file_extension": ".py",
   "mimetype": "text/x-python",
   "name": "python",
   "nbconvert_exporter": "python",
   "pygments_lexer": "ipython3",
   "version": "3.7.4"
  }
 },
 "nbformat": 4,
 "nbformat_minor": 2
}
